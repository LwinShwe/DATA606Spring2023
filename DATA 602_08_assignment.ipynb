{
  "nbformat": 4,
  "nbformat_minor": 0,
  "metadata": {
    "colab": {
      "provenance": [],
      "include_colab_link": true
    },
    "kernelspec": {
      "name": "python3",
      "display_name": "Python 3"
    }
  },
  "cells": [
    {
      "cell_type": "markdown",
      "metadata": {
        "id": "view-in-github",
        "colab_type": "text"
      },
      "source": [
        "<a href=\"https://colab.research.google.com/github/LwinShwe/DATA606Spring2023/blob/main/DATA%20602_08_assignment.ipynb\" target=\"_parent\"><img src=\"https://colab.research.google.com/assets/colab-badge.svg\" alt=\"Open In Colab\"/></a>"
      ]
    },
    {
      "cell_type": "markdown",
      "source": [
        "Student Name: Lwin Nandar Shwe"
      ],
      "metadata": {
        "id": "zgYDbmNdJoJG"
      }
    },
    {
      "cell_type": "markdown",
      "metadata": {
        "id": "rd2QZetSDszc"
      },
      "source": [
        "# **Assignment 8**\n",
        "\n",
        "# **Weeks 10 & 11 - matplotlib & seaborn**\n",
        "* In this homework assignment, you will explore and analyze a public dataset of your choosing. Since this assignment is “open-ended” in nature, you are free to expand upon the requirements below. However, you must meet the minimum requirments as indicated in each section. \n",
        "\n",
        "\n",
        "* The preferred method for this analysis is in a .ipynb file. Feel free to use whichever platform of your choosing.  \n",
        "\n",
        "\n",
        "### **Some data examples:**\n",
        "•\thttps://www.data.gov/\n",
        "\n",
        "•\thttps://opendata.cityofnewyork.us/\n",
        "\n",
        "•\thttps://datasetsearch.research.google.com/\n",
        "\n",
        "•\thttps://archive.ics.uci.edu/ml/index.php\n",
        "\n",
        "### **Resources:**\n",
        "\n",
        "•\thttps://pandas.pydata.org/pandas-docs/stable/getting_started/10min.html \n",
        "\n",
        "•\thttps://www.oreilly.com/library/view/python-data-science/9781491912126/ch04.html\n",
        "\n",
        "•\thttps://www.data-to-viz.com/\n",
        "\n",
        "\n",
        "\n",
        "### **Headings or comments**\n",
        "**You are required to make use of comments, or headings for each section.  You must explain what your code is doing, and the results of running your code.**  Act as if you were giving this assignment to your manager - you must include clear and descriptive information for each section.\n",
        "\n",
        "### **You may work as a group or indivdually on this assignment.**\n"
      ]
    },
    {
      "cell_type": "markdown",
      "metadata": {
        "id": "uW3w6p8rqgxu"
      },
      "source": [
        "# Introduction\n",
        "\n",
        "In this section, please describe the dataset you are using.  Include a link to the source of this data.  You should also provide some explanation on why you choose this dataset."
      ]
    },
    {
      "cell_type": "markdown",
      "metadata": {
        "id": "L0PnfMOFzOXz"
      },
      "source": [
        "In this assignment, the \"2013_2015_New_York_State_Mathematics_Exam\" dataset is used to know how python pandas functions works for data exploration,wrangling and visualization and other relavent tasks for data science. \n",
        "\n",
        "The data source is taken from the link: https://data.cityofnewyork.us/Education/2013-2015-New-York-State-Mathematics-Exam/r75y-8qe7"
      ]
    },
    {
      "cell_type": "markdown",
      "metadata": {
        "id": "3bp8cdDxDs2t"
      },
      "source": [
        "______________\n",
        "# Data Exploration\n",
        "Import your dataset into your .ipynb, create dataframes, and explore your data.  \n",
        "\n",
        "Include: \n",
        "\n",
        "* Summary statistics means, medians, quartiles, \n",
        "* Missing value information\n",
        "* Any other relevant information about the dataset.  \n",
        "\n"
      ]
    },
    {
      "cell_type": "code",
      "source": [
        "import pandas as pd  # Import pandas \n",
        "df = pd.read_csv('sample_data/2013_-_2015_New_York_State_Mathematics_Exam.csv') # read the data\n",
        "print(df.shape) # print the shape\n",
        "print(df.dtypes)  # print dtypes\n",
        "print(df.describe(exclude=[\"object\"]))  # exclude data of object-types\n",
        "df['Number Tested'].mean() # calculate arithematic mean for Number tested\n",
        "df['Number Tested'].count()\n",
        "df['Number Tested'].max()\n",
        "df['Number Tested'].min()\n",
        "df['Number Tested'].median() # find out median of a column\n",
        "df.describe() \n",
        "df.Year.describe()\n",
        "df.Year.quantile([0.25,0.5,0.75]) # explore quartiles \n",
        "print(df.isnull().sum()) # check dataset whether null values are present\n",
        "df.duplicated().sum() # check for duplicated rows"
      ],
      "metadata": {
        "id": "3NUlO_ru1WqR",
        "colab": {
          "base_uri": "https://localhost:8080/"
        },
        "outputId": "c4d779c9-2998-4fc2-ce42-77c0eb0ffac3"
      },
      "execution_count": 38,
      "outputs": [
        {
          "output_type": "stream",
          "name": "stdout",
          "text": [
            "(231, 15)\n",
            "Grade                object\n",
            "Year                  int64\n",
            "Category             object\n",
            "Number Tested         int64\n",
            "Mean Scale Score      int64\n",
            "# Level 1             int64\n",
            "% Level 1           float64\n",
            "# Level 2             int64\n",
            "% Level 2           float64\n",
            "# Level 3             int64\n",
            "% Level 3           float64\n",
            "# Level 4             int64\n",
            "% Level 4           float64\n",
            "# Level 3+4           int64\n",
            "% Level 3+4         float64\n",
            "dtype: object\n",
            "             Year  Number Tested  Mean Scale Score      # Level 1   % Level 1  \\\n",
            "count   231.00000     231.000000        231.000000     231.000000  231.000000   \n",
            "mean   2014.00000   42373.852814        299.216450   14734.051948   36.193074   \n",
            "std       0.81827   60363.017490         16.481238   20063.174513   16.852107   \n",
            "min    2013.00000    2018.000000        265.000000     416.000000    8.600000   \n",
            "25%    2013.00000   11384.500000        287.000000    5205.500000   23.950000   \n",
            "50%    2014.00000   27192.000000        300.000000   10078.000000   34.400000   \n",
            "75%    2015.00000   53607.500000        309.000000   13986.500000   46.750000   \n",
            "max    2015.00000  342478.000000        337.000000  111994.000000   77.500000   \n",
            "\n",
            "           # Level 2   % Level 2     # Level 3   % Level 3     # Level 4  \\\n",
            "count     231.000000  231.000000    231.000000  231.000000    231.000000   \n",
            "mean    13678.831169   31.447186   8228.943723   18.907792   5732.025974   \n",
            "std     20216.497427    5.708725  12692.184336    7.421961   9446.406543   \n",
            "min       851.000000   16.900000    293.000000    3.700000     93.000000   \n",
            "25%      3031.500000   27.750000   1991.500000   13.550000    748.000000   \n",
            "50%      9279.000000   31.600000   4094.000000   19.000000   3027.000000   \n",
            "75%     15879.000000   35.300000   8727.000000   23.950000   5888.000000   \n",
            "max    122587.000000   49.600000  74627.000000   33.500000  58668.000000   \n",
            "\n",
            "        % Level 4    # Level 3+4  % Level 3+4  \n",
            "count  231.000000     231.000000   231.000000  \n",
            "mean    13.456277   13960.969697    32.358442  \n",
            "std     10.245247   21971.142985    16.931812  \n",
            "min      0.700000     452.000000     4.400000  \n",
            "25%      4.950000    2678.500000    18.600000  \n",
            "50%     11.400000    7302.000000    30.900000  \n",
            "75%     18.350000   14295.500000    42.200000  \n",
            "max     45.200000  130947.000000    73.200000  \n",
            "Grade               0\n",
            "Year                0\n",
            "Category            0\n",
            "Number Tested       0\n",
            "Mean Scale Score    0\n",
            "# Level 1           0\n",
            "% Level 1           0\n",
            "# Level 2           0\n",
            "% Level 2           0\n",
            "# Level 3           0\n",
            "% Level 3           0\n",
            "# Level 4           0\n",
            "% Level 4           0\n",
            "# Level 3+4         0\n",
            "% Level 3+4         0\n",
            "dtype: int64\n"
          ]
        },
        {
          "output_type": "execute_result",
          "data": {
            "text/plain": [
              "0"
            ]
          },
          "metadata": {},
          "execution_count": 38
        }
      ]
    },
    {
      "cell_type": "code",
      "source": [
        "from google.colab import drive\n",
        "drive.mount('/content/drive')"
      ],
      "metadata": {
        "id": "0AfxE_33erIt"
      },
      "execution_count": null,
      "outputs": []
    },
    {
      "cell_type": "markdown",
      "metadata": {
        "id": "kCSLIafaEGVK"
      },
      "source": [
        "# Data Wrangling\n",
        "\n",
        "Perform data wrangling.  You are free to use your best judgment here.  If you are stuck, look at previous assignment."
      ]
    },
    {
      "cell_type": "code",
      "source": [
        "import pandas as pd\n",
        "df1 = pd.DataFrame(df) # convert dataset to dataframe\n",
        "df1 # show the dataframe\n",
        "df1 = df1[df1['Year'] >= 2014].copy()  #filter the year 2014 above\n",
        "df1\n",
        "del df1['Year']    # deleate a column \"Year\"\n",
        "df1\n",
        "df1.drop('Grade', axis=1, inplace=True) # Drop a column \"Grade\"\n",
        "df1"
      ],
      "metadata": {
        "id": "xEkLsm7g1UiZ",
        "colab": {
          "base_uri": "https://localhost:8080/",
          "height": 419
        },
        "outputId": "abf132ca-2aa4-4e04-e68c-f8942a55c3bd"
      },
      "execution_count": 39,
      "outputs": [
        {
          "output_type": "execute_result",
          "data": {
            "text/plain": [
              "    Category  Number Tested  Mean Scale Score  # Level 1  % Level 1  \\\n",
              "1        ELL          10539               283       5289       50.2   \n",
              "2        ELL          10825               284       5578       51.5   \n",
              "4        ELL          10932               280       5722       52.3   \n",
              "5        ELL          10057               279       5240       52.1   \n",
              "7        ELL           9259               282       5585       60.3   \n",
              "..       ...            ...               ...        ...        ...   \n",
              "224      SWD          13525               272       9507       70.3   \n",
              "226      SWD          12919               267       9021       69.8   \n",
              "227      SWD          12748               265       9237       72.5   \n",
              "229      SWD          85628               274      54181       63.3   \n",
              "230      SWD          85600               273      54428       63.6   \n",
              "\n",
              "     # Level 2  % Level 2  # Level 3  % Level 3  # Level 4  % Level 4  \\\n",
              "1         3220       30.6       1547       14.7        483        4.6   \n",
              "2         3152       29.1       1373       12.7        722        6.7   \n",
              "4         3270       29.9       1329       12.2        611        5.6   \n",
              "5         3040       30.2       1213       12.1        564        5.6   \n",
              "7         2354       25.4        927       10.0        393        4.2   \n",
              "..         ...        ...        ...        ...        ...        ...   \n",
              "224       3056       22.6        764        5.6        198        1.5   \n",
              "226       3198       24.8        601        4.7         99        0.8   \n",
              "227       2884       22.6        514        4.0        113        0.9   \n",
              "229      21703       25.3       7066        8.3       2678        3.1   \n",
              "230      21486       25.1       7047        8.2       2639        3.1   \n",
              "\n",
              "     # Level 3+4  % Level 3+4  \n",
              "1           2030         19.3  \n",
              "2           2095         19.4  \n",
              "4           1940         17.7  \n",
              "5           1777         17.7  \n",
              "7           1320         14.3  \n",
              "..           ...          ...  \n",
              "224          962          7.1  \n",
              "226          700          5.4  \n",
              "227          627          4.9  \n",
              "229         9744         11.4  \n",
              "230         9686         11.3  \n",
              "\n",
              "[154 rows x 13 columns]"
            ],
            "text/html": [
              "\n",
              "  <div id=\"df-6bed5ea6-f76a-4a6d-8182-d8457686f43c\">\n",
              "    <div class=\"colab-df-container\">\n",
              "      <div>\n",
              "<style scoped>\n",
              "    .dataframe tbody tr th:only-of-type {\n",
              "        vertical-align: middle;\n",
              "    }\n",
              "\n",
              "    .dataframe tbody tr th {\n",
              "        vertical-align: top;\n",
              "    }\n",
              "\n",
              "    .dataframe thead th {\n",
              "        text-align: right;\n",
              "    }\n",
              "</style>\n",
              "<table border=\"1\" class=\"dataframe\">\n",
              "  <thead>\n",
              "    <tr style=\"text-align: right;\">\n",
              "      <th></th>\n",
              "      <th>Category</th>\n",
              "      <th>Number Tested</th>\n",
              "      <th>Mean Scale Score</th>\n",
              "      <th># Level 1</th>\n",
              "      <th>% Level 1</th>\n",
              "      <th># Level 2</th>\n",
              "      <th>% Level 2</th>\n",
              "      <th># Level 3</th>\n",
              "      <th>% Level 3</th>\n",
              "      <th># Level 4</th>\n",
              "      <th>% Level 4</th>\n",
              "      <th># Level 3+4</th>\n",
              "      <th>% Level 3+4</th>\n",
              "    </tr>\n",
              "  </thead>\n",
              "  <tbody>\n",
              "    <tr>\n",
              "      <th>1</th>\n",
              "      <td>ELL</td>\n",
              "      <td>10539</td>\n",
              "      <td>283</td>\n",
              "      <td>5289</td>\n",
              "      <td>50.2</td>\n",
              "      <td>3220</td>\n",
              "      <td>30.6</td>\n",
              "      <td>1547</td>\n",
              "      <td>14.7</td>\n",
              "      <td>483</td>\n",
              "      <td>4.6</td>\n",
              "      <td>2030</td>\n",
              "      <td>19.3</td>\n",
              "    </tr>\n",
              "    <tr>\n",
              "      <th>2</th>\n",
              "      <td>ELL</td>\n",
              "      <td>10825</td>\n",
              "      <td>284</td>\n",
              "      <td>5578</td>\n",
              "      <td>51.5</td>\n",
              "      <td>3152</td>\n",
              "      <td>29.1</td>\n",
              "      <td>1373</td>\n",
              "      <td>12.7</td>\n",
              "      <td>722</td>\n",
              "      <td>6.7</td>\n",
              "      <td>2095</td>\n",
              "      <td>19.4</td>\n",
              "    </tr>\n",
              "    <tr>\n",
              "      <th>4</th>\n",
              "      <td>ELL</td>\n",
              "      <td>10932</td>\n",
              "      <td>280</td>\n",
              "      <td>5722</td>\n",
              "      <td>52.3</td>\n",
              "      <td>3270</td>\n",
              "      <td>29.9</td>\n",
              "      <td>1329</td>\n",
              "      <td>12.2</td>\n",
              "      <td>611</td>\n",
              "      <td>5.6</td>\n",
              "      <td>1940</td>\n",
              "      <td>17.7</td>\n",
              "    </tr>\n",
              "    <tr>\n",
              "      <th>5</th>\n",
              "      <td>ELL</td>\n",
              "      <td>10057</td>\n",
              "      <td>279</td>\n",
              "      <td>5240</td>\n",
              "      <td>52.1</td>\n",
              "      <td>3040</td>\n",
              "      <td>30.2</td>\n",
              "      <td>1213</td>\n",
              "      <td>12.1</td>\n",
              "      <td>564</td>\n",
              "      <td>5.6</td>\n",
              "      <td>1777</td>\n",
              "      <td>17.7</td>\n",
              "    </tr>\n",
              "    <tr>\n",
              "      <th>7</th>\n",
              "      <td>ELL</td>\n",
              "      <td>9259</td>\n",
              "      <td>282</td>\n",
              "      <td>5585</td>\n",
              "      <td>60.3</td>\n",
              "      <td>2354</td>\n",
              "      <td>25.4</td>\n",
              "      <td>927</td>\n",
              "      <td>10.0</td>\n",
              "      <td>393</td>\n",
              "      <td>4.2</td>\n",
              "      <td>1320</td>\n",
              "      <td>14.3</td>\n",
              "    </tr>\n",
              "    <tr>\n",
              "      <th>...</th>\n",
              "      <td>...</td>\n",
              "      <td>...</td>\n",
              "      <td>...</td>\n",
              "      <td>...</td>\n",
              "      <td>...</td>\n",
              "      <td>...</td>\n",
              "      <td>...</td>\n",
              "      <td>...</td>\n",
              "      <td>...</td>\n",
              "      <td>...</td>\n",
              "      <td>...</td>\n",
              "      <td>...</td>\n",
              "      <td>...</td>\n",
              "    </tr>\n",
              "    <tr>\n",
              "      <th>224</th>\n",
              "      <td>SWD</td>\n",
              "      <td>13525</td>\n",
              "      <td>272</td>\n",
              "      <td>9507</td>\n",
              "      <td>70.3</td>\n",
              "      <td>3056</td>\n",
              "      <td>22.6</td>\n",
              "      <td>764</td>\n",
              "      <td>5.6</td>\n",
              "      <td>198</td>\n",
              "      <td>1.5</td>\n",
              "      <td>962</td>\n",
              "      <td>7.1</td>\n",
              "    </tr>\n",
              "    <tr>\n",
              "      <th>226</th>\n",
              "      <td>SWD</td>\n",
              "      <td>12919</td>\n",
              "      <td>267</td>\n",
              "      <td>9021</td>\n",
              "      <td>69.8</td>\n",
              "      <td>3198</td>\n",
              "      <td>24.8</td>\n",
              "      <td>601</td>\n",
              "      <td>4.7</td>\n",
              "      <td>99</td>\n",
              "      <td>0.8</td>\n",
              "      <td>700</td>\n",
              "      <td>5.4</td>\n",
              "    </tr>\n",
              "    <tr>\n",
              "      <th>227</th>\n",
              "      <td>SWD</td>\n",
              "      <td>12748</td>\n",
              "      <td>265</td>\n",
              "      <td>9237</td>\n",
              "      <td>72.5</td>\n",
              "      <td>2884</td>\n",
              "      <td>22.6</td>\n",
              "      <td>514</td>\n",
              "      <td>4.0</td>\n",
              "      <td>113</td>\n",
              "      <td>0.9</td>\n",
              "      <td>627</td>\n",
              "      <td>4.9</td>\n",
              "    </tr>\n",
              "    <tr>\n",
              "      <th>229</th>\n",
              "      <td>SWD</td>\n",
              "      <td>85628</td>\n",
              "      <td>274</td>\n",
              "      <td>54181</td>\n",
              "      <td>63.3</td>\n",
              "      <td>21703</td>\n",
              "      <td>25.3</td>\n",
              "      <td>7066</td>\n",
              "      <td>8.3</td>\n",
              "      <td>2678</td>\n",
              "      <td>3.1</td>\n",
              "      <td>9744</td>\n",
              "      <td>11.4</td>\n",
              "    </tr>\n",
              "    <tr>\n",
              "      <th>230</th>\n",
              "      <td>SWD</td>\n",
              "      <td>85600</td>\n",
              "      <td>273</td>\n",
              "      <td>54428</td>\n",
              "      <td>63.6</td>\n",
              "      <td>21486</td>\n",
              "      <td>25.1</td>\n",
              "      <td>7047</td>\n",
              "      <td>8.2</td>\n",
              "      <td>2639</td>\n",
              "      <td>3.1</td>\n",
              "      <td>9686</td>\n",
              "      <td>11.3</td>\n",
              "    </tr>\n",
              "  </tbody>\n",
              "</table>\n",
              "<p>154 rows × 13 columns</p>\n",
              "</div>\n",
              "      <button class=\"colab-df-convert\" onclick=\"convertToInteractive('df-6bed5ea6-f76a-4a6d-8182-d8457686f43c')\"\n",
              "              title=\"Convert this dataframe to an interactive table.\"\n",
              "              style=\"display:none;\">\n",
              "        \n",
              "  <svg xmlns=\"http://www.w3.org/2000/svg\" height=\"24px\"viewBox=\"0 0 24 24\"\n",
              "       width=\"24px\">\n",
              "    <path d=\"M0 0h24v24H0V0z\" fill=\"none\"/>\n",
              "    <path d=\"M18.56 5.44l.94 2.06.94-2.06 2.06-.94-2.06-.94-.94-2.06-.94 2.06-2.06.94zm-11 1L8.5 8.5l.94-2.06 2.06-.94-2.06-.94L8.5 2.5l-.94 2.06-2.06.94zm10 10l.94 2.06.94-2.06 2.06-.94-2.06-.94-.94-2.06-.94 2.06-2.06.94z\"/><path d=\"M17.41 7.96l-1.37-1.37c-.4-.4-.92-.59-1.43-.59-.52 0-1.04.2-1.43.59L10.3 9.45l-7.72 7.72c-.78.78-.78 2.05 0 2.83L4 21.41c.39.39.9.59 1.41.59.51 0 1.02-.2 1.41-.59l7.78-7.78 2.81-2.81c.8-.78.8-2.07 0-2.86zM5.41 20L4 18.59l7.72-7.72 1.47 1.35L5.41 20z\"/>\n",
              "  </svg>\n",
              "      </button>\n",
              "      \n",
              "  <style>\n",
              "    .colab-df-container {\n",
              "      display:flex;\n",
              "      flex-wrap:wrap;\n",
              "      gap: 12px;\n",
              "    }\n",
              "\n",
              "    .colab-df-convert {\n",
              "      background-color: #E8F0FE;\n",
              "      border: none;\n",
              "      border-radius: 50%;\n",
              "      cursor: pointer;\n",
              "      display: none;\n",
              "      fill: #1967D2;\n",
              "      height: 32px;\n",
              "      padding: 0 0 0 0;\n",
              "      width: 32px;\n",
              "    }\n",
              "\n",
              "    .colab-df-convert:hover {\n",
              "      background-color: #E2EBFA;\n",
              "      box-shadow: 0px 1px 2px rgba(60, 64, 67, 0.3), 0px 1px 3px 1px rgba(60, 64, 67, 0.15);\n",
              "      fill: #174EA6;\n",
              "    }\n",
              "\n",
              "    [theme=dark] .colab-df-convert {\n",
              "      background-color: #3B4455;\n",
              "      fill: #D2E3FC;\n",
              "    }\n",
              "\n",
              "    [theme=dark] .colab-df-convert:hover {\n",
              "      background-color: #434B5C;\n",
              "      box-shadow: 0px 1px 3px 1px rgba(0, 0, 0, 0.15);\n",
              "      filter: drop-shadow(0px 1px 2px rgba(0, 0, 0, 0.3));\n",
              "      fill: #FFFFFF;\n",
              "    }\n",
              "  </style>\n",
              "\n",
              "      <script>\n",
              "        const buttonEl =\n",
              "          document.querySelector('#df-6bed5ea6-f76a-4a6d-8182-d8457686f43c button.colab-df-convert');\n",
              "        buttonEl.style.display =\n",
              "          google.colab.kernel.accessAllowed ? 'block' : 'none';\n",
              "\n",
              "        async function convertToInteractive(key) {\n",
              "          const element = document.querySelector('#df-6bed5ea6-f76a-4a6d-8182-d8457686f43c');\n",
              "          const dataTable =\n",
              "            await google.colab.kernel.invokeFunction('convertToInteractive',\n",
              "                                                     [key], {});\n",
              "          if (!dataTable) return;\n",
              "\n",
              "          const docLinkHtml = 'Like what you see? Visit the ' +\n",
              "            '<a target=\"_blank\" href=https://colab.research.google.com/notebooks/data_table.ipynb>data table notebook</a>'\n",
              "            + ' to learn more about interactive tables.';\n",
              "          element.innerHTML = '';\n",
              "          dataTable['output_type'] = 'display_data';\n",
              "          await google.colab.output.renderOutput(dataTable, element);\n",
              "          const docLink = document.createElement('div');\n",
              "          docLink.innerHTML = docLinkHtml;\n",
              "          element.appendChild(docLink);\n",
              "        }\n",
              "      </script>\n",
              "    </div>\n",
              "  </div>\n",
              "  "
            ]
          },
          "metadata": {},
          "execution_count": 39
        }
      ]
    },
    {
      "cell_type": "markdown",
      "source": [
        "# Visualizations\n",
        "\n",
        "The main purpose of this assignment is to practice creating various visualizations using the matplotlib and seaborn library.\n",
        "\n",
        "### **Part 1:**\n",
        "Using matplotlib, create ***two or more plots*** that incorporate at least **5** of the following properties:\n",
        "\n",
        "Note: these properties vary based on your data.  The goal is to practice creating visualizations and modifying its properties. \n",
        "\n",
        "*   Use and change a legend position\n",
        "*   Change a legend font size\n",
        "*   Place a legend outside of the plot\n",
        "*   Create a single legend for all subplots\n",
        "*   Change the title and x/y labels\n",
        "*   Change the marker, line colors, and line width\n",
        "*   Add annotations\n",
        "*   Modify Axis Text Ticks/Labels\n",
        "*   Change size of axis Labels\n",
        "*   Your own choice not included above \n",
        "\n",
        "\n",
        "Plots that you can create **include**:\n",
        "\n",
        "*   Scatter Plot\n",
        "*   Bar plot\n",
        "*   Line Chart\n",
        "*   Multi Plots (e.g. using .subplot()\n",
        "*   Histogram\n",
        "\n",
        "You can add another plot not listed here if it works better for your data.  This is not a complete list of plots to create.\n",
        "\n",
        "### **Part 2:**\n",
        "\n",
        "Recreate the visualizations above using the Seaborn library as best as possible.  \n",
        "\n",
        "\n",
        "**You are required to explain what each of your plots is representing. Plots without comments will not be accepted.**  In addition, please explain the properties you are showcasing.\n",
        "\n",
        "\n",
        "### **Part 3:**\n",
        "In a comment or text box, explain the differences between creating a plot in matplotlib and seaborn, based on your above plots.\n",
        "\n"
      ],
      "metadata": {
        "id": "uJdF3TMe_TXU"
      }
    },
    {
      "cell_type": "code",
      "source": [
        "import pandas as pd\n",
        "import matplotlib as mpl        # importing matplotlib package for creating plots\n",
        "import matplotlib.pyplot as plt   #plt interface is being used very often to build plots\n",
        "import numpy as np\n",
        "plt.style.use('classic')  # setting a classic styles\n",
        "data = pd.read_csv('sample_data/countries.csv')\n",
        "data\n",
        "us = data[data.country == \"United States\"] # compare the population growth in the US and China\n",
        "us\n",
        "china = data[data.country == \"China\"]\n",
        "china\n",
        "plt.plot(us.year, us.population /us.population.iloc[0] * 100)\n",
        "plt.plot(china.year, china.population / china.population.iloc[0] * 100)\n",
        "plt.legend(['United States', 'China'])\n",
        "plt.title('US Vs China Population Growth')\n",
        "plt.xlabel('year')\n",
        "plt.ylabel('population growth (first year = 100)')\n",
        "plt.show"
      ],
      "metadata": {
        "id": "N9sKmrIrDbhd",
        "colab": {
          "base_uri": "https://localhost:8080/",
          "height": 487
        },
        "outputId": "16be5ba4-f9bc-4fbc-c171-c28850e64a7b"
      },
      "execution_count": 83,
      "outputs": [
        {
          "output_type": "execute_result",
          "data": {
            "text/plain": [
              "<function matplotlib.pyplot.show(close=None, block=None)>"
            ]
          },
          "metadata": {},
          "execution_count": 83
        },
        {
          "output_type": "display_data",
          "data": {
            "text/plain": [
              "<Figure size 640x480 with 1 Axes>"
            ],
            "image/png": "[encoded data removed]"
          },
          "metadata": {}
        }
      ]
    },
    {
      "cell_type": "markdown",
      "source": [],
      "metadata": {
        "id": "vFa4bNTyDbzb"
      }
    },
    {
      "cell_type": "code",
      "source": [
        "plt.scatter(us.year, us.population /us.population.iloc[0] * 100)\n",
        "plt.scatter(china.year, china.population / china.population.iloc[0] * 100)\n",
        "plt.legend(['United States', 'China'])\n",
        "plt.title('US Vs China Population Growth')\n",
        "plt.xlabel('year')\n",
        "plt.ylabel('population growth (first year = 100)')\n",
        "plt.show"
      ],
      "metadata": {
        "id": "SshtuQj9XR5_",
        "colab": {
          "base_uri": "https://localhost:8080/",
          "height": 492
        },
        "outputId": "dc1f3732-9352-4392-9854-446f1e314f29"
      },
      "execution_count": 74,
      "outputs": [
        {
          "output_type": "execute_result",
          "data": {
            "text/plain": [
              "<function matplotlib.pyplot.show(close=None, block=None)>"
            ]
          },
          "metadata": {},
          "execution_count": 74
        },
        {
          "output_type": "display_data",
          "data": {
            "text/plain": [
              "<Figure size 640x480 with 1 Axes>"
            ],
            "image/png": "[encoded data removed]"
          },
          "metadata": {}
        }
      ]
    },
    {
      "cell_type": "code",
      "source": [],
      "metadata": {
        "id": "LkVk_lpzV1CY"
      },
      "execution_count": null,
      "outputs": []
    },
    {
      "cell_type": "code",
      "source": [
        "import numpy as np\n",
        "import pandas as pd\n",
        "import matplotlib.pyplot as plt\n",
        "import seaborn as sns\n",
        "data_df = pd.read_csv('sample_data/countries.csv')\n",
        "sns.set_style('darkgrid') # styling graph\n",
        "plt.figure(figsize=(8,4)) # make the plot size bigger\n",
        "sns.set_context('paper', font_scale=1.4) # enlarge the font type and size\n",
        "sns.jointplot(x='year', y='population', data=data_df,kind='reg') # create joint plot\n",
        "sns.barplot(x='year', y='population', data = data_df, estimator=np.var) # build a bar plot\n"
      ],
      "metadata": {
        "colab": {
          "base_uri": "https://localhost:8080/",
          "height": 514
        },
        "id": "bN6ZDdk0SQ2_",
        "outputId": "da10cd01-fe7b-4d9e-fb36-e284eea56ca9"
      },
      "execution_count": 131,
      "outputs": [
        {
          "output_type": "execute_result",
          "data": {
            "text/plain": [
              "<Axes: xlabel='year', ylabel='population'>"
            ]
          },
          "metadata": {},
          "execution_count": 131
        },
        {
          "output_type": "display_data",
          "data": {
            "text/plain": [
              "<Figure size 640x320 with 0 Axes>"
            ]
          },
          "metadata": {}
        },
        {
          "output_type": "display_data",
          "data": {
            "text/plain": [
              "<Figure size 480x480 with 3 Axes>"
            ],
            "image/png": "[encoded data removed]"
          },
          "metadata": {}
        }
      ]
    },
    {
      "cell_type": "markdown",
      "source": [
        "# Conclusions  \n",
        "\n",
        "After exploring your dataset, provide a short summary of what you noticed from this dataset.  \n",
        "\n",
        "The graph shows that even in percentage amount, China population growth is much faster than the United States. The US population growth by 90 percent from 1952 to 2007 but during the same time, China's population grew by more than 120 percent."
      ],
      "metadata": {
        "id": "tujjevRpXEen"
      }
    }
  ]
}